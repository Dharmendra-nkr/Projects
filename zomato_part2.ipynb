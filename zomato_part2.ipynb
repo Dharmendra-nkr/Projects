{
 "cells": [
  {
   "cell_type": "code",
   "execution_count": 1,
   "metadata": {},
   "outputs": [],
   "source": [
    "import pandas as pd\n",
    "import numpy as np\n",
    "from sklearn.model_selection import train_test_split\n",
    "from sklearn.ensemble import RandomForestClassifier\n",
    "from sklearn.metrics import accuracy_score, confusion_matrix, classification_report\n",
    "import seaborn as sns\n",
    "import matplotlib.pyplot as plt\n",
    "from sklearn.preprocessing import LabelEncoder"
   ]
  },
  {
   "cell_type": "code",
   "execution_count": 2,
   "metadata": {},
   "outputs": [],
   "source": [
    "df_raw=pd.read_csv(\"zomato.csv\")"
   ]
  },
  {
   "cell_type": "code",
   "execution_count": 3,
   "metadata": {},
   "outputs": [
    {
     "data": {
      "text/html": [
       "<div>\n",
       "<style scoped>\n",
       "    .dataframe tbody tr th:only-of-type {\n",
       "        vertical-align: middle;\n",
       "    }\n",
       "\n",
       "    .dataframe tbody tr th {\n",
       "        vertical-align: top;\n",
       "    }\n",
       "\n",
       "    .dataframe thead th {\n",
       "        text-align: right;\n",
       "    }\n",
       "</style>\n",
       "<table border=\"1\" class=\"dataframe\">\n",
       "  <thead>\n",
       "    <tr style=\"text-align: right;\">\n",
       "      <th></th>\n",
       "      <th>url</th>\n",
       "      <th>address</th>\n",
       "      <th>name</th>\n",
       "      <th>online_order</th>\n",
       "      <th>book_table</th>\n",
       "      <th>rate</th>\n",
       "      <th>votes</th>\n",
       "      <th>phone</th>\n",
       "      <th>location</th>\n",
       "      <th>rest_type</th>\n",
       "      <th>dish_liked</th>\n",
       "      <th>cuisines</th>\n",
       "      <th>approx_cost(for two people)</th>\n",
       "      <th>reviews_list</th>\n",
       "      <th>menu_item</th>\n",
       "      <th>listed_in(type)</th>\n",
       "      <th>listed_in(city)</th>\n",
       "    </tr>\n",
       "  </thead>\n",
       "  <tbody>\n",
       "    <tr>\n",
       "      <th>0</th>\n",
       "      <td>https://www.zomato.com/bangalore/jalsa-banasha...</td>\n",
       "      <td>942, 21st Main Road, 2nd Stage, Banashankari, ...</td>\n",
       "      <td>Jalsa</td>\n",
       "      <td>Yes</td>\n",
       "      <td>Yes</td>\n",
       "      <td>4.1/5</td>\n",
       "      <td>775</td>\n",
       "      <td>080 42297555\\r\\n+91 9743772233</td>\n",
       "      <td>Banashankari</td>\n",
       "      <td>Casual Dining</td>\n",
       "      <td>Pasta, Lunch Buffet, Masala Papad, Paneer Laja...</td>\n",
       "      <td>North Indian, Mughlai, Chinese</td>\n",
       "      <td>800</td>\n",
       "      <td>[('Rated 4.0', 'RATED\\n  A beautiful place to ...</td>\n",
       "      <td>[]</td>\n",
       "      <td>Buffet</td>\n",
       "      <td>Banashankari</td>\n",
       "    </tr>\n",
       "    <tr>\n",
       "      <th>1</th>\n",
       "      <td>https://www.zomato.com/bangalore/spice-elephan...</td>\n",
       "      <td>2nd Floor, 80 Feet Road, Near Big Bazaar, 6th ...</td>\n",
       "      <td>Spice Elephant</td>\n",
       "      <td>Yes</td>\n",
       "      <td>No</td>\n",
       "      <td>4.1/5</td>\n",
       "      <td>787</td>\n",
       "      <td>080 41714161</td>\n",
       "      <td>Banashankari</td>\n",
       "      <td>Casual Dining</td>\n",
       "      <td>Momos, Lunch Buffet, Chocolate Nirvana, Thai G...</td>\n",
       "      <td>Chinese, North Indian, Thai</td>\n",
       "      <td>800</td>\n",
       "      <td>[('Rated 4.0', 'RATED\\n  Had been here for din...</td>\n",
       "      <td>[]</td>\n",
       "      <td>Buffet</td>\n",
       "      <td>Banashankari</td>\n",
       "    </tr>\n",
       "    <tr>\n",
       "      <th>2</th>\n",
       "      <td>https://www.zomato.com/SanchurroBangalore?cont...</td>\n",
       "      <td>1112, Next to KIMS Medical College, 17th Cross...</td>\n",
       "      <td>San Churro Cafe</td>\n",
       "      <td>Yes</td>\n",
       "      <td>No</td>\n",
       "      <td>3.8/5</td>\n",
       "      <td>918</td>\n",
       "      <td>+91 9663487993</td>\n",
       "      <td>Banashankari</td>\n",
       "      <td>Cafe, Casual Dining</td>\n",
       "      <td>Churros, Cannelloni, Minestrone Soup, Hot Choc...</td>\n",
       "      <td>Cafe, Mexican, Italian</td>\n",
       "      <td>800</td>\n",
       "      <td>[('Rated 3.0', \"RATED\\n  Ambience is not that ...</td>\n",
       "      <td>[]</td>\n",
       "      <td>Buffet</td>\n",
       "      <td>Banashankari</td>\n",
       "    </tr>\n",
       "    <tr>\n",
       "      <th>3</th>\n",
       "      <td>https://www.zomato.com/bangalore/addhuri-udupi...</td>\n",
       "      <td>1st Floor, Annakuteera, 3rd Stage, Banashankar...</td>\n",
       "      <td>Addhuri Udupi Bhojana</td>\n",
       "      <td>No</td>\n",
       "      <td>No</td>\n",
       "      <td>3.7/5</td>\n",
       "      <td>88</td>\n",
       "      <td>+91 9620009302</td>\n",
       "      <td>Banashankari</td>\n",
       "      <td>Quick Bites</td>\n",
       "      <td>Masala Dosa</td>\n",
       "      <td>South Indian, North Indian</td>\n",
       "      <td>300</td>\n",
       "      <td>[('Rated 4.0', \"RATED\\n  Great food and proper...</td>\n",
       "      <td>[]</td>\n",
       "      <td>Buffet</td>\n",
       "      <td>Banashankari</td>\n",
       "    </tr>\n",
       "    <tr>\n",
       "      <th>4</th>\n",
       "      <td>https://www.zomato.com/bangalore/grand-village...</td>\n",
       "      <td>10, 3rd Floor, Lakshmi Associates, Gandhi Baza...</td>\n",
       "      <td>Grand Village</td>\n",
       "      <td>No</td>\n",
       "      <td>No</td>\n",
       "      <td>3.8/5</td>\n",
       "      <td>166</td>\n",
       "      <td>+91 8026612447\\r\\n+91 9901210005</td>\n",
       "      <td>Basavanagudi</td>\n",
       "      <td>Casual Dining</td>\n",
       "      <td>Panipuri, Gol Gappe</td>\n",
       "      <td>North Indian, Rajasthani</td>\n",
       "      <td>600</td>\n",
       "      <td>[('Rated 4.0', 'RATED\\n  Very good restaurant ...</td>\n",
       "      <td>[]</td>\n",
       "      <td>Buffet</td>\n",
       "      <td>Banashankari</td>\n",
       "    </tr>\n",
       "    <tr>\n",
       "      <th>...</th>\n",
       "      <td>...</td>\n",
       "      <td>...</td>\n",
       "      <td>...</td>\n",
       "      <td>...</td>\n",
       "      <td>...</td>\n",
       "      <td>...</td>\n",
       "      <td>...</td>\n",
       "      <td>...</td>\n",
       "      <td>...</td>\n",
       "      <td>...</td>\n",
       "      <td>...</td>\n",
       "      <td>...</td>\n",
       "      <td>...</td>\n",
       "      <td>...</td>\n",
       "      <td>...</td>\n",
       "      <td>...</td>\n",
       "      <td>...</td>\n",
       "    </tr>\n",
       "    <tr>\n",
       "      <th>51712</th>\n",
       "      <td>https://www.zomato.com/bangalore/best-brews-fo...</td>\n",
       "      <td>Four Points by Sheraton Bengaluru, 43/3, White...</td>\n",
       "      <td>Best Brews - Four Points by Sheraton Bengaluru...</td>\n",
       "      <td>No</td>\n",
       "      <td>No</td>\n",
       "      <td>3.6 /5</td>\n",
       "      <td>27</td>\n",
       "      <td>080 40301477</td>\n",
       "      <td>Whitefield</td>\n",
       "      <td>Bar</td>\n",
       "      <td>NaN</td>\n",
       "      <td>Continental</td>\n",
       "      <td>1,500</td>\n",
       "      <td>[('Rated 5.0', \"RATED\\n  Food and service are ...</td>\n",
       "      <td>[]</td>\n",
       "      <td>Pubs and bars</td>\n",
       "      <td>Whitefield</td>\n",
       "    </tr>\n",
       "    <tr>\n",
       "      <th>51713</th>\n",
       "      <td>https://www.zomato.com/bangalore/vinod-bar-and...</td>\n",
       "      <td>Number 10, Garudachar Palya, Mahadevapura, Whi...</td>\n",
       "      <td>Vinod Bar And Restaurant</td>\n",
       "      <td>No</td>\n",
       "      <td>No</td>\n",
       "      <td>NaN</td>\n",
       "      <td>0</td>\n",
       "      <td>+91 8197675843</td>\n",
       "      <td>Whitefield</td>\n",
       "      <td>Bar</td>\n",
       "      <td>NaN</td>\n",
       "      <td>Finger Food</td>\n",
       "      <td>600</td>\n",
       "      <td>[]</td>\n",
       "      <td>[]</td>\n",
       "      <td>Pubs and bars</td>\n",
       "      <td>Whitefield</td>\n",
       "    </tr>\n",
       "    <tr>\n",
       "      <th>51714</th>\n",
       "      <td>https://www.zomato.com/bangalore/plunge-sherat...</td>\n",
       "      <td>Sheraton Grand Bengaluru Whitefield Hotel &amp; Co...</td>\n",
       "      <td>Plunge - Sheraton Grand Bengaluru Whitefield H...</td>\n",
       "      <td>No</td>\n",
       "      <td>No</td>\n",
       "      <td>NaN</td>\n",
       "      <td>0</td>\n",
       "      <td>NaN</td>\n",
       "      <td>Whitefield</td>\n",
       "      <td>Bar</td>\n",
       "      <td>NaN</td>\n",
       "      <td>Finger Food</td>\n",
       "      <td>2,000</td>\n",
       "      <td>[]</td>\n",
       "      <td>[]</td>\n",
       "      <td>Pubs and bars</td>\n",
       "      <td>Whitefield</td>\n",
       "    </tr>\n",
       "    <tr>\n",
       "      <th>51715</th>\n",
       "      <td>https://www.zomato.com/bangalore/chime-sherato...</td>\n",
       "      <td>Sheraton Grand Bengaluru Whitefield Hotel &amp; Co...</td>\n",
       "      <td>Chime - Sheraton Grand Bengaluru Whitefield Ho...</td>\n",
       "      <td>No</td>\n",
       "      <td>Yes</td>\n",
       "      <td>4.3 /5</td>\n",
       "      <td>236</td>\n",
       "      <td>080 49652769</td>\n",
       "      <td>ITPL Main Road, Whitefield</td>\n",
       "      <td>Bar</td>\n",
       "      <td>Cocktails, Pizza, Buttermilk</td>\n",
       "      <td>Finger Food</td>\n",
       "      <td>2,500</td>\n",
       "      <td>[('Rated 4.0', 'RATED\\n  Nice and friendly pla...</td>\n",
       "      <td>[]</td>\n",
       "      <td>Pubs and bars</td>\n",
       "      <td>Whitefield</td>\n",
       "    </tr>\n",
       "    <tr>\n",
       "      <th>51716</th>\n",
       "      <td>https://www.zomato.com/bangalore/the-nest-the-...</td>\n",
       "      <td>ITPL Main Road, KIADB Export Promotion Industr...</td>\n",
       "      <td>The Nest - The Den Bengaluru</td>\n",
       "      <td>No</td>\n",
       "      <td>No</td>\n",
       "      <td>3.4 /5</td>\n",
       "      <td>13</td>\n",
       "      <td>+91 8071117272</td>\n",
       "      <td>ITPL Main Road, Whitefield</td>\n",
       "      <td>Bar, Casual Dining</td>\n",
       "      <td>NaN</td>\n",
       "      <td>Finger Food, North Indian, Continental</td>\n",
       "      <td>1,500</td>\n",
       "      <td>[('Rated 5.0', 'RATED\\n  Great ambience , look...</td>\n",
       "      <td>[]</td>\n",
       "      <td>Pubs and bars</td>\n",
       "      <td>Whitefield</td>\n",
       "    </tr>\n",
       "  </tbody>\n",
       "</table>\n",
       "<p>51717 rows × 17 columns</p>\n",
       "</div>"
      ],
      "text/plain": [
       "                                                     url   \n",
       "0      https://www.zomato.com/bangalore/jalsa-banasha...  \\\n",
       "1      https://www.zomato.com/bangalore/spice-elephan...   \n",
       "2      https://www.zomato.com/SanchurroBangalore?cont...   \n",
       "3      https://www.zomato.com/bangalore/addhuri-udupi...   \n",
       "4      https://www.zomato.com/bangalore/grand-village...   \n",
       "...                                                  ...   \n",
       "51712  https://www.zomato.com/bangalore/best-brews-fo...   \n",
       "51713  https://www.zomato.com/bangalore/vinod-bar-and...   \n",
       "51714  https://www.zomato.com/bangalore/plunge-sherat...   \n",
       "51715  https://www.zomato.com/bangalore/chime-sherato...   \n",
       "51716  https://www.zomato.com/bangalore/the-nest-the-...   \n",
       "\n",
       "                                                 address   \n",
       "0      942, 21st Main Road, 2nd Stage, Banashankari, ...  \\\n",
       "1      2nd Floor, 80 Feet Road, Near Big Bazaar, 6th ...   \n",
       "2      1112, Next to KIMS Medical College, 17th Cross...   \n",
       "3      1st Floor, Annakuteera, 3rd Stage, Banashankar...   \n",
       "4      10, 3rd Floor, Lakshmi Associates, Gandhi Baza...   \n",
       "...                                                  ...   \n",
       "51712  Four Points by Sheraton Bengaluru, 43/3, White...   \n",
       "51713  Number 10, Garudachar Palya, Mahadevapura, Whi...   \n",
       "51714  Sheraton Grand Bengaluru Whitefield Hotel & Co...   \n",
       "51715  Sheraton Grand Bengaluru Whitefield Hotel & Co...   \n",
       "51716  ITPL Main Road, KIADB Export Promotion Industr...   \n",
       "\n",
       "                                                    name online_order   \n",
       "0                                                  Jalsa          Yes  \\\n",
       "1                                         Spice Elephant          Yes   \n",
       "2                                        San Churro Cafe          Yes   \n",
       "3                                  Addhuri Udupi Bhojana           No   \n",
       "4                                          Grand Village           No   \n",
       "...                                                  ...          ...   \n",
       "51712  Best Brews - Four Points by Sheraton Bengaluru...           No   \n",
       "51713                           Vinod Bar And Restaurant           No   \n",
       "51714  Plunge - Sheraton Grand Bengaluru Whitefield H...           No   \n",
       "51715  Chime - Sheraton Grand Bengaluru Whitefield Ho...           No   \n",
       "51716                       The Nest - The Den Bengaluru           No   \n",
       "\n",
       "      book_table    rate  votes                             phone   \n",
       "0            Yes   4.1/5    775    080 42297555\\r\\n+91 9743772233  \\\n",
       "1             No   4.1/5    787                      080 41714161   \n",
       "2             No   3.8/5    918                    +91 9663487993   \n",
       "3             No   3.7/5     88                    +91 9620009302   \n",
       "4             No   3.8/5    166  +91 8026612447\\r\\n+91 9901210005   \n",
       "...          ...     ...    ...                               ...   \n",
       "51712         No  3.6 /5     27                      080 40301477   \n",
       "51713         No     NaN      0                    +91 8197675843   \n",
       "51714         No     NaN      0                               NaN   \n",
       "51715        Yes  4.3 /5    236                      080 49652769   \n",
       "51716         No  3.4 /5     13                    +91 8071117272   \n",
       "\n",
       "                         location            rest_type   \n",
       "0                    Banashankari        Casual Dining  \\\n",
       "1                    Banashankari        Casual Dining   \n",
       "2                    Banashankari  Cafe, Casual Dining   \n",
       "3                    Banashankari          Quick Bites   \n",
       "4                    Basavanagudi        Casual Dining   \n",
       "...                           ...                  ...   \n",
       "51712                  Whitefield                  Bar   \n",
       "51713                  Whitefield                  Bar   \n",
       "51714                  Whitefield                  Bar   \n",
       "51715  ITPL Main Road, Whitefield                  Bar   \n",
       "51716  ITPL Main Road, Whitefield   Bar, Casual Dining   \n",
       "\n",
       "                                              dish_liked   \n",
       "0      Pasta, Lunch Buffet, Masala Papad, Paneer Laja...  \\\n",
       "1      Momos, Lunch Buffet, Chocolate Nirvana, Thai G...   \n",
       "2      Churros, Cannelloni, Minestrone Soup, Hot Choc...   \n",
       "3                                            Masala Dosa   \n",
       "4                                    Panipuri, Gol Gappe   \n",
       "...                                                  ...   \n",
       "51712                                                NaN   \n",
       "51713                                                NaN   \n",
       "51714                                                NaN   \n",
       "51715                       Cocktails, Pizza, Buttermilk   \n",
       "51716                                                NaN   \n",
       "\n",
       "                                     cuisines approx_cost(for two people)   \n",
       "0              North Indian, Mughlai, Chinese                         800  \\\n",
       "1                 Chinese, North Indian, Thai                         800   \n",
       "2                      Cafe, Mexican, Italian                         800   \n",
       "3                  South Indian, North Indian                         300   \n",
       "4                    North Indian, Rajasthani                         600   \n",
       "...                                       ...                         ...   \n",
       "51712                             Continental                       1,500   \n",
       "51713                             Finger Food                         600   \n",
       "51714                             Finger Food                       2,000   \n",
       "51715                             Finger Food                       2,500   \n",
       "51716  Finger Food, North Indian, Continental                       1,500   \n",
       "\n",
       "                                            reviews_list menu_item   \n",
       "0      [('Rated 4.0', 'RATED\\n  A beautiful place to ...        []  \\\n",
       "1      [('Rated 4.0', 'RATED\\n  Had been here for din...        []   \n",
       "2      [('Rated 3.0', \"RATED\\n  Ambience is not that ...        []   \n",
       "3      [('Rated 4.0', \"RATED\\n  Great food and proper...        []   \n",
       "4      [('Rated 4.0', 'RATED\\n  Very good restaurant ...        []   \n",
       "...                                                  ...       ...   \n",
       "51712  [('Rated 5.0', \"RATED\\n  Food and service are ...        []   \n",
       "51713                                                 []        []   \n",
       "51714                                                 []        []   \n",
       "51715  [('Rated 4.0', 'RATED\\n  Nice and friendly pla...        []   \n",
       "51716  [('Rated 5.0', 'RATED\\n  Great ambience , look...        []   \n",
       "\n",
       "      listed_in(type) listed_in(city)  \n",
       "0              Buffet    Banashankari  \n",
       "1              Buffet    Banashankari  \n",
       "2              Buffet    Banashankari  \n",
       "3              Buffet    Banashankari  \n",
       "4              Buffet    Banashankari  \n",
       "...               ...             ...  \n",
       "51712   Pubs and bars      Whitefield  \n",
       "51713   Pubs and bars      Whitefield  \n",
       "51714   Pubs and bars      Whitefield  \n",
       "51715   Pubs and bars      Whitefield  \n",
       "51716   Pubs and bars      Whitefield  \n",
       "\n",
       "[51717 rows x 17 columns]"
      ]
     },
     "execution_count": 3,
     "metadata": {},
     "output_type": "execute_result"
    }
   ],
   "source": [
    "df_raw"
   ]
  },
  {
   "cell_type": "code",
   "execution_count": 4,
   "metadata": {},
   "outputs": [],
   "source": [
    "df_cleaned=df_raw.drop(columns=['address','url','phone','menu_item','reviews_list','dish_liked'])"
   ]
  },
  {
   "cell_type": "code",
   "execution_count": 5,
   "metadata": {},
   "outputs": [
    {
     "data": {
      "text/plain": [
       "(51717, 11)"
      ]
     },
     "execution_count": 5,
     "metadata": {},
     "output_type": "execute_result"
    }
   ],
   "source": [
    "df_cleaned.shape"
   ]
  },
  {
   "cell_type": "code",
   "execution_count": 6,
   "metadata": {},
   "outputs": [
    {
     "data": {
      "text/plain": [
       "51717"
      ]
     },
     "execution_count": 6,
     "metadata": {},
     "output_type": "execute_result"
    }
   ],
   "source": [
    "df_cleaned.name.value_counts().sum()"
   ]
  },
  {
   "cell_type": "code",
   "execution_count": 7,
   "metadata": {},
   "outputs": [
    {
     "data": {
      "text/plain": [
       "name                              0\n",
       "online_order                      0\n",
       "book_table                        0\n",
       "rate                           7775\n",
       "votes                             0\n",
       "location                         21\n",
       "rest_type                       227\n",
       "cuisines                         45\n",
       "approx_cost(for two people)     346\n",
       "listed_in(type)                   0\n",
       "listed_in(city)                   0\n",
       "dtype: int64"
      ]
     },
     "execution_count": 7,
     "metadata": {},
     "output_type": "execute_result"
    }
   ],
   "source": [
    "df_cleaned.isnull().sum()"
   ]
  },
  {
   "cell_type": "code",
   "execution_count": 8,
   "metadata": {},
   "outputs": [],
   "source": [
    "df_nonan=df_cleaned.dropna()"
   ]
  },
  {
   "cell_type": "code",
   "execution_count": 9,
   "metadata": {},
   "outputs": [
    {
     "data": {
      "text/plain": [
       "name                           0\n",
       "online_order                   0\n",
       "book_table                     0\n",
       "rate                           0\n",
       "votes                          0\n",
       "location                       0\n",
       "rest_type                      0\n",
       "cuisines                       0\n",
       "approx_cost(for two people)    0\n",
       "listed_in(type)                0\n",
       "listed_in(city)                0\n",
       "dtype: int64"
      ]
     },
     "execution_count": 9,
     "metadata": {},
     "output_type": "execute_result"
    }
   ],
   "source": [
    "df_nonan.isna().sum()"
   ]
  },
  {
   "cell_type": "code",
   "execution_count": 10,
   "metadata": {},
   "outputs": [
    {
     "name": "stderr",
     "output_type": "stream",
     "text": [
      "C:\\Users\\nkrdh\\AppData\\Local\\Temp\\ipykernel_22304\\472133440.py:1: SettingWithCopyWarning: \n",
      "A value is trying to be set on a copy of a slice from a DataFrame.\n",
      "Try using .loc[row_indexer,col_indexer] = value instead\n",
      "\n",
      "See the caveats in the documentation: https://pandas.pydata.org/pandas-docs/stable/user_guide/indexing.html#returning-a-view-versus-a-copy\n",
      "  df_nonan['rate'] = df_nonan['rate'].str.replace('/5', '', regex=False)\n"
     ]
    }
   ],
   "source": [
    "df_nonan['rate'] = df_nonan['rate'].str.replace('/5', '', regex=False)"
   ]
  },
  {
   "cell_type": "code",
   "execution_count": 11,
   "metadata": {},
   "outputs": [],
   "source": [
    "df_nonan.reset_index(inplace=True)"
   ]
  },
  {
   "cell_type": "code",
   "execution_count": 12,
   "metadata": {},
   "outputs": [
    {
     "data": {
      "text/plain": [
       "{'NEW': 2205,\n",
       " '3.9': 2091,\n",
       " '3.7': 2008,\n",
       " '3.8': 1999,\n",
       " '3.9 ': 1867,\n",
       " '3.8 ': 1820,\n",
       " '3.7 ': 1800,\n",
       " '3.6': 1754,\n",
       " '4.0': 1598,\n",
       " '4.0 ': 1547,\n",
       " '3.6 ': 1533,\n",
       " '4.1': 1471,\n",
       " '4.1 ': 1457,\n",
       " '3.5': 1424,\n",
       " '3.5 ': 1340,\n",
       " '3.4': 1250,\n",
       " '3.4 ': 1197,\n",
       " '3.3': 1152,\n",
       " '4.2 ': 1142,\n",
       " '3.3 ': 1125,\n",
       " '4.2': 1013,\n",
       " '3.2': 997,\n",
       " '4.3 ': 911,\n",
       " '3.1': 851,\n",
       " '3.2 ': 848,\n",
       " '4.3': 772,\n",
       " '3.1 ': 699,\n",
       " '4.4 ': 627,\n",
       " '3.0': 544,\n",
       " '4.4': 519,\n",
       " '3.0 ': 447,\n",
       " '2.9': 427,\n",
       " '4.5 ': 409,\n",
       " '2.9 ': 374,\n",
       " '2.8': 302,\n",
       " '2.8 ': 278,\n",
       " '4.5': 247,\n",
       " '4.6 ': 175,\n",
       " '2.7': 167,\n",
       " '2.6': 140,\n",
       " '2.7 ': 136,\n",
       " '4.6': 125,\n",
       " '2.6 ': 109,\n",
       " '4.7 ': 86,\n",
       " '4.7': 81,\n",
       " '-': 65,\n",
       " '2.5 ': 56,\n",
       " '2.5': 44,\n",
       " '4.8 ': 43,\n",
       " '2.4': 36,\n",
       " '4.9 ': 30,\n",
       " '2.4 ': 30,\n",
       " '2.3': 28,\n",
       " '4.9': 25,\n",
       " '2.3 ': 23,\n",
       " '4.8': 23,\n",
       " '2.2': 19,\n",
       " '2.1 ': 13,\n",
       " '2.1': 11,\n",
       " '2.2 ': 7,\n",
       " '2.0 ': 7,\n",
       " '2.0': 4,\n",
       " '1.8 ': 3,\n",
       " '1.8': 2}"
      ]
     },
     "execution_count": 12,
     "metadata": {},
     "output_type": "execute_result"
    }
   ],
   "source": [
    "df_nonan.rate.value_counts().to_dict()"
   ]
  },
  {
   "cell_type": "code",
   "execution_count": 13,
   "metadata": {},
   "outputs": [
    {
     "data": {
      "text/plain": [
       "2205"
      ]
     },
     "execution_count": 13,
     "metadata": {},
     "output_type": "execute_result"
    }
   ],
   "source": [
    "(df_nonan['rate'] == 'NEW').sum()"
   ]
  },
  {
   "cell_type": "code",
   "execution_count": 14,
   "metadata": {},
   "outputs": [],
   "source": [
    "# Drop rows where 'rate' is '-' or 'NEW'\n",
    "df_final = df_nonan[~df_nonan['rate'].isin(['-', 'NEW'])]\n",
    "\n",
    "df_final.reset_index(drop=True, inplace=True)"
   ]
  },
  {
   "cell_type": "code",
   "execution_count": 15,
   "metadata": {},
   "outputs": [
    {
     "data": {
      "text/html": [
       "<div>\n",
       "<style scoped>\n",
       "    .dataframe tbody tr th:only-of-type {\n",
       "        vertical-align: middle;\n",
       "    }\n",
       "\n",
       "    .dataframe tbody tr th {\n",
       "        vertical-align: top;\n",
       "    }\n",
       "\n",
       "    .dataframe thead th {\n",
       "        text-align: right;\n",
       "    }\n",
       "</style>\n",
       "<table border=\"1\" class=\"dataframe\">\n",
       "  <thead>\n",
       "    <tr style=\"text-align: right;\">\n",
       "      <th></th>\n",
       "      <th>index</th>\n",
       "      <th>name</th>\n",
       "      <th>online_order</th>\n",
       "      <th>book_table</th>\n",
       "      <th>rate</th>\n",
       "      <th>votes</th>\n",
       "      <th>location</th>\n",
       "      <th>rest_type</th>\n",
       "      <th>cuisines</th>\n",
       "      <th>approx_cost(for two people)</th>\n",
       "      <th>listed_in(type)</th>\n",
       "      <th>listed_in(city)</th>\n",
       "    </tr>\n",
       "  </thead>\n",
       "  <tbody>\n",
       "    <tr>\n",
       "      <th>0</th>\n",
       "      <td>0</td>\n",
       "      <td>Jalsa</td>\n",
       "      <td>Yes</td>\n",
       "      <td>Yes</td>\n",
       "      <td>4.1</td>\n",
       "      <td>775</td>\n",
       "      <td>Banashankari</td>\n",
       "      <td>Casual Dining</td>\n",
       "      <td>North Indian, Mughlai, Chinese</td>\n",
       "      <td>800</td>\n",
       "      <td>Buffet</td>\n",
       "      <td>Banashankari</td>\n",
       "    </tr>\n",
       "    <tr>\n",
       "      <th>1</th>\n",
       "      <td>1</td>\n",
       "      <td>Spice Elephant</td>\n",
       "      <td>Yes</td>\n",
       "      <td>No</td>\n",
       "      <td>4.1</td>\n",
       "      <td>787</td>\n",
       "      <td>Banashankari</td>\n",
       "      <td>Casual Dining</td>\n",
       "      <td>Chinese, North Indian, Thai</td>\n",
       "      <td>800</td>\n",
       "      <td>Buffet</td>\n",
       "      <td>Banashankari</td>\n",
       "    </tr>\n",
       "    <tr>\n",
       "      <th>2</th>\n",
       "      <td>2</td>\n",
       "      <td>San Churro Cafe</td>\n",
       "      <td>Yes</td>\n",
       "      <td>No</td>\n",
       "      <td>3.8</td>\n",
       "      <td>918</td>\n",
       "      <td>Banashankari</td>\n",
       "      <td>Cafe, Casual Dining</td>\n",
       "      <td>Cafe, Mexican, Italian</td>\n",
       "      <td>800</td>\n",
       "      <td>Buffet</td>\n",
       "      <td>Banashankari</td>\n",
       "    </tr>\n",
       "    <tr>\n",
       "      <th>3</th>\n",
       "      <td>3</td>\n",
       "      <td>Addhuri Udupi Bhojana</td>\n",
       "      <td>No</td>\n",
       "      <td>No</td>\n",
       "      <td>3.7</td>\n",
       "      <td>88</td>\n",
       "      <td>Banashankari</td>\n",
       "      <td>Quick Bites</td>\n",
       "      <td>South Indian, North Indian</td>\n",
       "      <td>300</td>\n",
       "      <td>Buffet</td>\n",
       "      <td>Banashankari</td>\n",
       "    </tr>\n",
       "    <tr>\n",
       "      <th>4</th>\n",
       "      <td>4</td>\n",
       "      <td>Grand Village</td>\n",
       "      <td>No</td>\n",
       "      <td>No</td>\n",
       "      <td>3.8</td>\n",
       "      <td>166</td>\n",
       "      <td>Basavanagudi</td>\n",
       "      <td>Casual Dining</td>\n",
       "      <td>North Indian, Rajasthani</td>\n",
       "      <td>600</td>\n",
       "      <td>Buffet</td>\n",
       "      <td>Banashankari</td>\n",
       "    </tr>\n",
       "  </tbody>\n",
       "</table>\n",
       "</div>"
      ],
      "text/plain": [
       "   index                   name online_order book_table rate  votes   \n",
       "0      0                  Jalsa          Yes        Yes  4.1    775  \\\n",
       "1      1         Spice Elephant          Yes         No  4.1    787   \n",
       "2      2        San Churro Cafe          Yes         No  3.8    918   \n",
       "3      3  Addhuri Udupi Bhojana           No         No  3.7     88   \n",
       "4      4          Grand Village           No         No  3.8    166   \n",
       "\n",
       "       location            rest_type                        cuisines   \n",
       "0  Banashankari        Casual Dining  North Indian, Mughlai, Chinese  \\\n",
       "1  Banashankari        Casual Dining     Chinese, North Indian, Thai   \n",
       "2  Banashankari  Cafe, Casual Dining          Cafe, Mexican, Italian   \n",
       "3  Banashankari          Quick Bites      South Indian, North Indian   \n",
       "4  Basavanagudi        Casual Dining        North Indian, Rajasthani   \n",
       "\n",
       "  approx_cost(for two people) listed_in(type) listed_in(city)  \n",
       "0                         800          Buffet    Banashankari  \n",
       "1                         800          Buffet    Banashankari  \n",
       "2                         800          Buffet    Banashankari  \n",
       "3                         300          Buffet    Banashankari  \n",
       "4                         600          Buffet    Banashankari  "
      ]
     },
     "execution_count": 15,
     "metadata": {},
     "output_type": "execute_result"
    }
   ],
   "source": [
    "df_final.head()"
   ]
  },
  {
   "cell_type": "code",
   "execution_count": 16,
   "metadata": {},
   "outputs": [
    {
     "data": {
      "text/plain": [
       "index                          0\n",
       "name                           0\n",
       "online_order                   0\n",
       "book_table                     0\n",
       "rate                           0\n",
       "votes                          0\n",
       "location                       0\n",
       "rest_type                      0\n",
       "cuisines                       0\n",
       "approx_cost(for two people)    0\n",
       "listed_in(type)                0\n",
       "listed_in(city)                0\n",
       "dtype: int64"
      ]
     },
     "execution_count": 16,
     "metadata": {},
     "output_type": "execute_result"
    }
   ],
   "source": [
    "df_final.isna().sum()"
   ]
  },
  {
   "cell_type": "code",
   "execution_count": 17,
   "metadata": {},
   "outputs": [
    {
     "data": {
      "text/plain": [
       "Index(['index', 'name', 'online_order', 'book_table', 'rate', 'votes',\n",
       "       'location', 'rest_type', 'cuisines', 'approx_cost(for two people)',\n",
       "       'listed_in(type)', 'listed_in(city)'],\n",
       "      dtype='object')"
      ]
     },
     "execution_count": 17,
     "metadata": {},
     "output_type": "execute_result"
    }
   ],
   "source": [
    "df_final.columns"
   ]
  },
  {
   "cell_type": "code",
   "execution_count": 18,
   "metadata": {},
   "outputs": [
    {
     "data": {
      "text/plain": [
       "<bound method Series.unique of 0          800\n",
       "1          800\n",
       "2          800\n",
       "3          300\n",
       "4          600\n",
       "         ...  \n",
       "41258      800\n",
       "41259      800\n",
       "41260    1,500\n",
       "41261    2,500\n",
       "41262    1,500\n",
       "Name: approx_cost(for two people), Length: 41263, dtype: object>"
      ]
     },
     "execution_count": 18,
     "metadata": {},
     "output_type": "execute_result"
    }
   ],
   "source": [
    "df_final['approx_cost(for two people)'].unique"
   ]
  },
  {
   "cell_type": "markdown",
   "metadata": {},
   "source": [
    "#### creating a approx cost (per person)"
   ]
  },
  {
   "cell_type": "code",
   "execution_count": 19,
   "metadata": {},
   "outputs": [
    {
     "name": "stderr",
     "output_type": "stream",
     "text": [
      "C:\\Users\\nkrdh\\AppData\\Local\\Temp\\ipykernel_22304\\2398633297.py:2: SettingWithCopyWarning: \n",
      "A value is trying to be set on a copy of a slice from a DataFrame.\n",
      "Try using .loc[row_indexer,col_indexer] = value instead\n",
      "\n",
      "See the caveats in the documentation: https://pandas.pydata.org/pandas-docs/stable/user_guide/indexing.html#returning-a-view-versus-a-copy\n",
      "  df_final['approx_cost(for two people)'] = df_cleaned['approx_cost(for two people)'].str.replace(',', '').astype(float)\n"
     ]
    }
   ],
   "source": [
    "# Remove commas and convert to numeric\n",
    "df_final['approx_cost(for two people)'] = df_cleaned['approx_cost(for two people)'].str.replace(',', '').astype(float)\n"
   ]
  },
  {
   "cell_type": "code",
   "execution_count": 20,
   "metadata": {},
   "outputs": [
    {
     "name": "stderr",
     "output_type": "stream",
     "text": [
      "C:\\Users\\nkrdh\\AppData\\Local\\Temp\\ipykernel_22304\\2093055531.py:1: SettingWithCopyWarning: \n",
      "A value is trying to be set on a copy of a slice from a DataFrame.\n",
      "Try using .loc[row_indexer,col_indexer] = value instead\n",
      "\n",
      "See the caveats in the documentation: https://pandas.pydata.org/pandas-docs/stable/user_guide/indexing.html#returning-a-view-versus-a-copy\n",
      "  df_final['approx_cost']=df_final['approx_cost(for two people)']/2\n",
      "C:\\Users\\nkrdh\\AppData\\Local\\Temp\\ipykernel_22304\\2093055531.py:2: SettingWithCopyWarning: \n",
      "A value is trying to be set on a copy of a slice from a DataFrame\n",
      "\n",
      "See the caveats in the documentation: https://pandas.pydata.org/pandas-docs/stable/user_guide/indexing.html#returning-a-view-versus-a-copy\n",
      "  df_final.drop(columns='approx_cost(for two people)',inplace=True)\n"
     ]
    }
   ],
   "source": [
    "df_final['approx_cost']=df_final['approx_cost(for two people)']/2\n",
    "df_final.drop(columns='approx_cost(for two people)',inplace=True)"
   ]
  },
  {
   "cell_type": "code",
   "execution_count": null,
   "metadata": {},
   "outputs": [],
   "source": [
    "# Columns to encode\n",
    "columns_to_encode = ['online_order', 'book_table', 'location', 'rest_type', 'cuisines', 'listed_in(type)', 'listed_in(city)']\n",
    "\n",
    "# Dictionary to store encoding mappings\n",
    "encoding_mappings = {}\n",
    "df_le = df_final.copy()\n",
    "# Apply Label Encoding\n",
    "label_encoders = {}\n",
    "for col in columns_to_encode:\n",
    "    le = LabelEncoder()\n",
    "    df_le[col] = le.fit_transform(df_final[col])  # Transform the column\n",
    "    label_encoders[col] = le\n",
    "    encoding_mappings[col] = dict(zip(le.classes_, le.transform(le.classes_)))  # Store mapping\n",
    "\n",
    "# Display DataFrame after encoding\n",
    "\n",
    "\"\n",
    "# Display encoding mappings\n",
    "for col, mapping in encoding_mappings.items():\n",
    "    print(f\"\\nMapping for {col}:\")\n",
    "    for category, encoded_value in mapping.items():\n",
    "        print(f\"  '{category}': {encoded_value}\")"
   ]
  },
  {
   "cell_type": "code",
   "execution_count": 22,
   "metadata": {},
   "outputs": [],
   "source": [
    "df_le.to_csv(\"df_le.csv\", index=False)  # Saves without the index column\n"
   ]
  },
  {
   "cell_type": "code",
   "execution_count": 23,
   "metadata": {},
   "outputs": [],
   "source": [
    "df_ml=df_le.drop(columns=['index','name'])"
   ]
  },
  {
   "cell_type": "code",
   "execution_count": 24,
   "metadata": {},
   "outputs": [
    {
     "data": {
      "text/plain": [
       "(41263, 10)"
      ]
     },
     "execution_count": 24,
     "metadata": {},
     "output_type": "execute_result"
    }
   ],
   "source": [
    "import numpy as np\n",
    "from sklearn.model_selection import train_test_split\n",
    "from sklearn.preprocessing import LabelEncoder, StandardScaler\n",
    "from sklearn.linear_model import LinearRegression\n",
    "from sklearn.metrics import mean_squared_error, r2_score\n",
    "df_ml.shape"
   ]
  },
  {
   "cell_type": "code",
   "execution_count": 25,
   "metadata": {},
   "outputs": [],
   "source": [
    "df_ml.dropna(inplace=True)"
   ]
  },
  {
   "cell_type": "code",
   "execution_count": 26,
   "metadata": {},
   "outputs": [
    {
     "name": "stdout",
     "output_type": "stream",
     "text": [
      "Mean Squared Error: 0.1418919629873745\n",
      "R-squared Score: 0.2777713775621772\n"
     ]
    }
   ],
   "source": [
    "# Separate features and target\n",
    "X = df_ml.drop(columns=['rate'])\n",
    "y = df_ml['rate']\n",
    "\n",
    "# Normalize numerical features (optional, but can improve results)\n",
    "scaler = StandardScaler()\n",
    "X = scaler.fit_transform(X)\n",
    "\n",
    "# Split the dataset into training and testing sets\n",
    "X_train, X_test, y_train, y_test = train_test_split(X, y, test_size=0.2, random_state=42)\n",
    "\n",
    "# Train a Linear Regression model\n",
    "model = LinearRegression()\n",
    "model.fit(X_train, y_train)\n",
    "\n",
    "# Make predictions\n",
    "y_pred = model.predict(X_test)\n",
    "\n",
    "# Evaluate the model\n",
    "mse = mean_squared_error(y_test, y_pred)\n",
    "r2 = r2_score(y_test, y_pred)\n",
    "\n",
    "print(f\"Mean Squared Error: {mse}\")\n",
    "print(f\"R-squared Score: {r2}\")"
   ]
  },
  {
   "cell_type": "code",
   "execution_count": 27,
   "metadata": {},
   "outputs": [
    {
     "name": "stdout",
     "output_type": "stream",
     "text": [
      "XGBoost - Mean Squared Error: 0.07642466574907303\n",
      "XGBoost - R-squared Score: 0.6109992265701294\n"
     ]
    }
   ],
   "source": [
    "from xgboost import XGBRegressor\n",
    "\n",
    "# Train an XGBoost model\n",
    "xgb_model = XGBRegressor(n_estimators=100, learning_rate=0.1, random_state=42)\n",
    "xgb_model.fit(X_train, y_train)\n",
    "\n",
    "# Make predictions\n",
    "y_pred_xgb = xgb_model.predict(X_test)\n",
    "\n",
    "# Evaluate the model\n",
    "mse_xgb = mean_squared_error(y_test, y_pred_xgb)\n",
    "r2_xgb = r2_score(y_test, y_pred_xgb)\n",
    "\n",
    "print(f\"XGBoost - Mean Squared Error: {mse_xgb}\")\n",
    "print(f\"XGBoost - R-squared Score: {r2_xgb}\")\n"
   ]
  },
  {
   "cell_type": "code",
   "execution_count": 28,
   "metadata": {},
   "outputs": [
    {
     "name": "stdout",
     "output_type": "stream",
     "text": [
      "Random Forest - Mean Squared Error: 0.026520003853633674\n",
      "Random Forest - R-squared Score: 0.8650134549765875\n"
     ]
    }
   ],
   "source": [
    "from sklearn.ensemble import RandomForestRegressor\n",
    "\n",
    "# Train a Random Forest model\n",
    "rf_model = RandomForestRegressor(n_estimators=100, random_state=42)\n",
    "rf_model.fit(X_train, y_train)\n",
    "\n",
    "# Make predictions\n",
    "y_pred_rf = rf_model.predict(X_test)\n",
    "\n",
    "# Evaluate the model\n",
    "mse_rf = mean_squared_error(y_test, y_pred_rf)\n",
    "r2_rf = r2_score(y_test, y_pred_rf)\n",
    "\n",
    "print(f\"Random Forest - Mean Squared Error: {mse_rf}\")\n",
    "print(f\"Random Forest - R-squared Score: {r2_rf}\")\n"
   ]
  },
  {
   "cell_type": "code",
   "execution_count": 29,
   "metadata": {},
   "outputs": [
    {
     "data": {
      "image/png": "[encoded data removed]",
      "text/plain": [
       "<Figure size 1000x600 with 2 Axes>"
      ]
     },
     "metadata": {},
     "output_type": "display_data"
    }
   ],
   "source": [
    "import seaborn as sns\n",
    "import matplotlib.pyplot as plt\n",
    "\n",
    "# Compute correlation matrix\n",
    "corr_matrix = df_ml.corr()\n",
    "\n",
    "# Plot heatmap\n",
    "plt.figure(figsize=(10, 6))\n",
    "sns.heatmap(corr_matrix, annot=True, cmap=\"Greens\", fmt=\".2f\", linewidths=0.5)\n",
    "plt.title(\"Feature Correlation Heatmap\")\n",
    "plt.show()\n"
   ]
  },
  {
   "cell_type": "markdown",
   "metadata": {},
   "source": [
    "# After lasso feature selection\n"
   ]
  },
  {
   "cell_type": "code",
   "execution_count": 30,
   "metadata": {},
   "outputs": [
    {
     "name": "stdout",
     "output_type": "stream",
     "text": [
      "Selected Features: ['online_order', 'book_table', 'votes', 'location', 'rest_type', 'cuisines']\n"
     ]
    }
   ],
   "source": [
    "from sklearn.linear_model import Lasso\n",
    "from sklearn.preprocessing import StandardScaler\n",
    "\n",
    "# Separate features and target\n",
    "X = df_ml.drop(columns=['rate'])\n",
    "y = df_ml['rate']\n",
    "\n",
    "# Standardize the features (important for Lasso)\n",
    "scaler = StandardScaler()\n",
    "X_scaled = scaler.fit_transform(X)\n",
    "\n",
    "# Apply Lasso Regression for Feature Selection\n",
    "lasso = Lasso(alpha=0.01)  # Adjust alpha for regularization strength\n",
    "lasso.fit(X_scaled, y)\n",
    "\n",
    "# Get the selected features\n",
    "selected_features = X.columns[lasso.coef_ != 0]  # Keep features with non-zero coefficients\n",
    "\n",
    "print(\"Selected Features:\", list(selected_features))\n"
   ]
  },
  {
   "cell_type": "code",
   "execution_count": 31,
   "metadata": {},
   "outputs": [],
   "source": [
    "# Separate features and target\n",
    "X = df_ml[selected_features]\n",
    "y = df_ml['rate']\n",
    "X_train, X_test, y_train, y_test = train_test_split(X, y, test_size=0.2, random_state=42)\n"
   ]
  },
  {
   "cell_type": "code",
   "execution_count": 32,
   "metadata": {},
   "outputs": [
    {
     "name": "stdout",
     "output_type": "stream",
     "text": [
      "XGBoost - Mean Squared Error: 0.07401268929243088\n",
      "XGBoost - R-squared Score: 0.6232762336730957\n"
     ]
    }
   ],
   "source": [
    "# Train an XGBoost model\n",
    "xgb_model = XGBRegressor(n_estimators=100, learning_rate=0.1, random_state=42)\n",
    "xgb_model.fit(X_train, y_train)\n",
    "\n",
    "# Make predictions\n",
    "y_pred_xgb = xgb_model.predict(X_test)\n",
    "\n",
    "# Evaluate the model\n",
    "mse_xgb = mean_squared_error(y_test, y_pred_xgb)\n",
    "r2_xgb = r2_score(y_test, y_pred_xgb)\n",
    "\n",
    "print(f\"XGBoost - Mean Squared Error: {mse_xgb}\")\n",
    "print(f\"XGBoost - R-squared Score: {r2_xgb}\")\n"
   ]
  },
  {
   "cell_type": "code",
   "execution_count": 33,
   "metadata": {},
   "outputs": [
    {
     "name": "stdout",
     "output_type": "stream",
     "text": [
      "Random Forest - Mean Squared Error: 0.016244623210520063\n",
      "Random Forest - R-squared Score: 0.9173150360574028\n"
     ]
    }
   ],
   "source": [
    "from sklearn.ensemble import RandomForestRegressor\n",
    "\n",
    "# Train a Random Forest model\n",
    "rf_model = RandomForestRegressor(n_estimators=100, random_state=42)\n",
    "rf_model.fit(X_train, y_train)\n",
    "\n",
    "# Make predictions\n",
    "y_pred_rf = rf_model.predict(X_test)\n",
    "\n",
    "# Evaluate the model\n",
    "mse_rf = mean_squared_error(y_test, y_pred_rf)\n",
    "r2_rf = r2_score(y_test, y_pred_rf)\n",
    "\n",
    "print(f\"Random Forest - Mean Squared Error: {mse_rf}\")\n",
    "print(f\"Random Forest - R-squared Score: {r2_rf}\")\n"
   ]
  },
  {
   "cell_type": "code",
   "execution_count": 40,
   "metadata": {},
   "outputs": [
    {
     "name": "stdout",
     "output_type": "stream",
     "text": [
      "Random Forest - Mean Squared Error: 0.014610494487901192\n",
      "Random Forest - R-squared Score: 0.9256327343355507\n"
     ]
    }
   ],
   "source": [
    "from sklearn.ensemble import RandomForestRegressor\n",
    "\n",
    "# Train a Random Forest model\n",
    "rf_model = RandomForestRegressor(n_estimators= 269, max_depth= 50, min_samples_split= 2, min_samples_leaf= 1, max_features= 'sqrt')\n",
    "rf_model.fit(X_train, y_train)\n",
    "\n",
    "# Make predictions\n",
    "y_pred_rf = rf_model.predict(X_test)\n",
    "\n",
    "# Evaluate the model\n",
    "mse_rf = mean_squared_error(y_test, y_pred_rf)\n",
    "r2_rf = r2_score(y_test, y_pred_rf)\n",
    "\n",
    "print(f\"Random Forest - Mean Squared Error: {mse_rf}\")\n",
    "print(f\"Random Forest - R-squared Score: {r2_rf}\")\n"
   ]
  },
  {
   "cell_type": "markdown",
   "metadata": {},
   "source": [
    "# OPTUNA"
   ]
  },
  {
   "cell_type": "code",
   "execution_count": null,
   "metadata": {},
   "outputs": [
    {
     "name": "stderr",
     "output_type": "stream",
     "text": [
      "c:\\Users\\nkrdh\\AppData\\Local\\Programs\\Python\\Python310\\lib\\site-packages\\tqdm\\auto.py:21: TqdmWarning: IProgress not found. Please update jupyter and ipywidgets. See https://ipywidgets.readthedocs.io/en/stable/user_install.html\n",
      "  from .autonotebook import tqdm as notebook_tqdm\n",
      "[I 2025-03-03 23:48:03,984] A new study created in memory with name: no-name-ad423548-8ca0-46ec-b1b1-005065710aa8\n",
      "[I 2025-03-03 23:48:59,318] Trial 0 finished with value: -0.04557133291501511 and parameters: {'n_estimators': 186, 'max_depth': 14, 'min_samples_split': 14, 'min_samples_leaf': 4}. Best is trial 0 with value: -0.04557133291501511.\n",
      "[I 2025-03-03 23:50:39,922] Trial 1 finished with value: -0.0693455900685589 and parameters: {'n_estimators': 482, 'max_depth': 10, 'min_samples_split': 4, 'min_samples_leaf': 7}. Best is trial 0 with value: -0.04557133291501511.\n",
      "[I 2025-03-03 23:52:59,287] Trial 2 finished with value: -0.0444359580907784 and parameters: {'n_estimators': 437, 'max_depth': 46, 'min_samples_split': 20, 'min_samples_leaf': 5}. Best is trial 2 with value: -0.0444359580907784.\n",
      "[I 2025-03-03 23:55:20,737] Trial 3 finished with value: -0.0359115045515865 and parameters: {'n_estimators': 371, 'max_depth': 29, 'min_samples_split': 14, 'min_samples_leaf': 3}. Best is trial 3 with value: -0.0359115045515865.\n",
      "[I 2025-03-03 23:56:59,740] Trial 4 finished with value: -0.04056363389191095 and parameters: {'n_estimators': 281, 'max_depth': 33, 'min_samples_split': 3, 'min_samples_leaf': 6}. Best is trial 3 with value: -0.0359115045515865.\n",
      "[I 2025-03-03 23:59:11,852] Trial 5 finished with value: -0.051894826896033974 and parameters: {'n_estimators': 402, 'max_depth': 23, 'min_samples_split': 12, 'min_samples_leaf': 10}. Best is trial 3 with value: -0.0359115045515865.\n",
      "[I 2025-03-03 23:59:57,879] Trial 6 finished with value: -0.09619637933016867 and parameters: {'n_estimators': 248, 'max_depth': 6, 'min_samples_split': 19, 'min_samples_leaf': 5}. Best is trial 3 with value: -0.0359115045515865.\n",
      "[I 2025-03-04 00:00:54,826] Trial 7 finished with value: -0.052011967223658626 and parameters: {'n_estimators': 170, 'max_depth': 41, 'min_samples_split': 4, 'min_samples_leaf': 10}. Best is trial 3 with value: -0.0359115045515865.\n",
      "[I 2025-03-04 00:02:41,757] Trial 8 finished with value: -0.027042268676401766 and parameters: {'n_estimators': 257, 'max_depth': 19, 'min_samples_split': 9, 'min_samples_leaf': 1}. Best is trial 8 with value: -0.027042268676401766.\n",
      "[I 2025-03-04 00:05:12,163] Trial 9 finished with value: -0.04277646947066142 and parameters: {'n_estimators': 420, 'max_depth': 16, 'min_samples_split': 7, 'min_samples_leaf': 6}. Best is trial 8 with value: -0.027042268676401766.\n",
      "[I 2025-03-04 00:05:44,191] Trial 10 finished with value: -0.025138096488287843 and parameters: {'n_estimators': 86, 'max_depth': 21, 'min_samples_split': 8, 'min_samples_leaf': 1}. Best is trial 10 with value: -0.025138096488287843.\n",
      "[I 2025-03-04 00:06:07,090] Trial 11 finished with value: -0.0250756969459508 and parameters: {'n_estimators': 58, 'max_depth': 22, 'min_samples_split': 8, 'min_samples_leaf': 1}. Best is trial 11 with value: -0.0250756969459508.\n",
      "[I 2025-03-04 00:06:31,673] Trial 12 finished with value: -0.024875075371994248 and parameters: {'n_estimators': 57, 'max_depth': 25, 'min_samples_split': 8, 'min_samples_leaf': 1}. Best is trial 12 with value: -0.024875075371994248.\n",
      "[I 2025-03-04 00:06:57,984] Trial 13 finished with value: -0.025643231191971656 and parameters: {'n_estimators': 60, 'max_depth': 33, 'min_samples_split': 6, 'min_samples_leaf': 2}. Best is trial 12 with value: -0.024875075371994248.\n",
      "[I 2025-03-04 00:07:49,867] Trial 14 finished with value: -0.03308599176596416 and parameters: {'n_estimators': 131, 'max_depth': 27, 'min_samples_split': 11, 'min_samples_leaf': 3}. Best is trial 12 with value: -0.024875075371994248.\n",
      "[I 2025-03-04 00:08:42,534] Trial 15 finished with value: -0.02708464186279095 and parameters: {'n_estimators': 124, 'max_depth': 36, 'min_samples_split': 10, 'min_samples_leaf': 1}. Best is trial 12 with value: -0.024875075371994248.\n",
      "[I 2025-03-04 00:09:03,910] Trial 16 finished with value: -0.047215753164867855 and parameters: {'n_estimators': 62, 'max_depth': 26, 'min_samples_split': 6, 'min_samples_leaf': 8}. Best is trial 12 with value: -0.024875075371994248.\n",
      "[I 2025-03-04 00:10:04,794] Trial 17 finished with value: -0.048002091371423715 and parameters: {'n_estimators': 185, 'max_depth': 13, 'min_samples_split': 13, 'min_samples_leaf': 3}. Best is trial 12 with value: -0.024875075371994248.\n",
      "[I 2025-03-04 00:12:12,121] Trial 18 finished with value: -0.036000903270620374 and parameters: {'n_estimators': 325, 'max_depth': 50, 'min_samples_split': 16, 'min_samples_leaf': 2}. Best is trial 12 with value: -0.024875075371994248.\n",
      "[I 2025-03-04 00:13:02,828] Trial 19 finished with value: -0.023839865984930896 and parameters: {'n_estimators': 116, 'max_depth': 39, 'min_samples_split': 2, 'min_samples_leaf': 2}. Best is trial 19 with value: -0.023839865984930896.\n",
      "[I 2025-03-04 00:13:52,093] Trial 20 finished with value: -0.033063871337945056 and parameters: {'n_estimators': 123, 'max_depth': 42, 'min_samples_split': 2, 'min_samples_leaf': 4}. Best is trial 19 with value: -0.023839865984930896.\n",
      "[I 2025-03-04 00:14:14,424] Trial 21 finished with value: -0.025757761055966756 and parameters: {'n_estimators': 50, 'max_depth': 36, 'min_samples_split': 6, 'min_samples_leaf': 2}. Best is trial 19 with value: -0.023839865984930896.\n",
      "[I 2025-03-04 00:14:56,329] Trial 22 finished with value: -0.026001381300089936 and parameters: {'n_estimators': 99, 'max_depth': 23, 'min_samples_split': 9, 'min_samples_leaf': 1}. Best is trial 19 with value: -0.023839865984930896.\n",
      "[I 2025-03-04 00:16:03,738] Trial 23 finished with value: -0.023776678998546474 and parameters: {'n_estimators': 153, 'max_depth': 30, 'min_samples_split': 4, 'min_samples_leaf': 2}. Best is trial 23 with value: -0.023776678998546474.\n",
      "[I 2025-03-04 00:17:53,955] Trial 24 finished with value: -0.02369036674397346 and parameters: {'n_estimators': 214, 'max_depth': 31, 'min_samples_split': 2, 'min_samples_leaf': 2}. Best is trial 24 with value: -0.02369036674397346.\n",
      "[I 2025-03-04 00:19:24,253] Trial 25 finished with value: -0.032919048458183955 and parameters: {'n_estimators': 219, 'max_depth': 40, 'min_samples_split': 2, 'min_samples_leaf': 4}. Best is trial 24 with value: -0.02369036674397346.\n",
      "[I 2025-03-04 00:20:42,195] Trial 26 finished with value: -0.028548082223801303 and parameters: {'n_estimators': 166, 'max_depth': 30, 'min_samples_split': 4, 'min_samples_leaf': 3}. Best is trial 24 with value: -0.02369036674397346.\n",
      "[I 2025-03-04 00:23:13,761] Trial 27 finished with value: -0.02363370329998459 and parameters: {'n_estimators': 302, 'max_depth': 36, 'min_samples_split': 2, 'min_samples_leaf': 2}. Best is trial 27 with value: -0.02363370329998459.\n",
      "[I 2025-03-04 00:24:58,189] Trial 28 finished with value: -0.03279874638054229 and parameters: {'n_estimators': 343, 'max_depth': 32, 'min_samples_split': 5, 'min_samples_leaf': 4}. Best is trial 27 with value: -0.02363370329998459.\n",
      "[I 2025-03-04 00:26:17,369] Trial 29 finished with value: -0.02370680997289651 and parameters: {'n_estimators': 224, 'max_depth': 37, 'min_samples_split': 3, 'min_samples_leaf': 2}. Best is trial 27 with value: -0.02363370329998459.\n"
     ]
    },
    {
     "name": "stdout",
     "output_type": "stream",
     "text": [
      "Best hyperparameters: {'n_estimators': 302, 'max_depth': 36, 'min_samples_split': 2, 'min_samples_leaf': 2}\n",
      "Optimized MSE: 0.0205\n"
     ]
    }
   ],
   "source": [
    "import optuna\n",
    "from sklearn.ensemble import RandomForestRegressor\n",
    "from sklearn.metrics import mean_squared_error\n",
    "from sklearn.model_selection import cross_val_score\n",
    "\n",
    "# Define the objective function for optimization\n",
    "def objective(trial):\n",
    "    # Define hyperparameter search space\n",
    "    n_estimators = trial.suggest_int('n_estimators', 50, 500)\n",
    "    max_depth = trial.suggest_int('max_depth', 5, 50)\n",
    "    min_samples_split = trial.suggest_int('min_samples_split', 2, 20)\n",
    "    min_samples_leaf = trial.suggest_int('min_samples_leaf', 1, 10)\n",
    "\n",
    "    # Initialize the model with trial parameters\n",
    "    model = RandomForestRegressor(\n",
    "        n_estimators=n_estimators,\n",
    "        max_depth=max_depth,\n",
    "        min_samples_split=min_samples_split,\n",
    "        min_samples_leaf=min_samples_leaf,\n",
    "        random_state=42\n",
    "    )\n",
    "\n",
    "    # Cross-validation score (neg MSE because Optuna maximizes objective)\n",
    "    score = cross_val_score(model, X_train, y_train, cv=5, scoring='neg_mean_squared_error').mean()\n",
    "    return score  # More negative means worse performance\n",
    "\n",
    "# Run Optuna optimization\n",
    "study = optuna.create_study(direction='maximize')  # Maximize negative MSE (minimizing MSE)\n",
    "study.optimize(objective, n_trials=30)\n",
    "\n",
    "# Best parameters\n",
    "print(\"Best hyperparameters:\", study.best_params)\n",
    "\n",
    "# Train final model with best parameters\n",
    "best_rf = RandomForestRegressor(**study.best_params, random_state=42)\n",
    "best_rf.fit(X_train, y_train)\n",
    "\n",
    "# Evaluate model\n",
    "y_pred = best_rf.predict(X_test)\n",
    "mse = mean_squared_error(y_test, y_pred)\n",
    "print(f\"Optimized MSE: {mse:.4f}\")\n"
   ]
  },
  {
   "cell_type": "code",
   "execution_count": 39,
   "metadata": {},
   "outputs": [
    {
     "name": "stderr",
     "output_type": "stream",
     "text": [
      "[I 2025-03-04 00:49:17,692] A new study created in memory with name: no-name-f3e2b3e8-7312-4068-9e48-90217fb4de7a\n",
      "[I 2025-03-04 00:49:27,130] Trial 0 finished with value: 0.7649515663564156 and parameters: {'n_estimators': 498, 'max_depth': 48, 'min_samples_split': 2, 'min_samples_leaf': 5, 'max_features': 'sqrt'}. Best is trial 0 with value: 0.7649515663564156.\n",
      "[I 2025-03-04 00:49:27,242] Trial 3 finished with value: 0.6059567089859599 and parameters: {'n_estimators': 123, 'max_depth': 10, 'min_samples_split': 10, 'min_samples_leaf': 6, 'max_features': 'log2'}. Best is trial 0 with value: 0.7649515663564156.\n",
      "[I 2025-03-04 00:49:27,628] Trial 1 finished with value: 0.6737698035353451 and parameters: {'n_estimators': 314, 'max_depth': 15, 'min_samples_split': 10, 'min_samples_leaf': 10, 'max_features': 'log2'}. Best is trial 0 with value: 0.7649515663564156.\n",
      "[I 2025-03-04 00:49:29,327] Trial 2 finished with value: 0.6025227934193013 and parameters: {'n_estimators': 210, 'max_depth': 10, 'min_samples_split': 2, 'min_samples_leaf': 7, 'max_features': 'log2'}. Best is trial 0 with value: 0.7649515663564156.\n",
      "[I 2025-03-04 00:49:30,707] Trial 4 finished with value: 0.6141026189037591 and parameters: {'n_estimators': 179, 'max_depth': 10, 'min_samples_split': 14, 'min_samples_leaf': 2, 'max_features': 'log2'}. Best is trial 0 with value: 0.7649515663564156.\n",
      "[I 2025-03-04 00:49:31,321] Trial 5 finished with value: 0.6936299516231034 and parameters: {'n_estimators': 81, 'max_depth': 41, 'min_samples_split': 17, 'min_samples_leaf': 9, 'max_features': 'sqrt'}. Best is trial 0 with value: 0.7649515663564156.\n",
      "[I 2025-03-04 00:49:35,861] Trial 6 finished with value: 0.7017228955770954 and parameters: {'n_estimators': 243, 'max_depth': 22, 'min_samples_split': 20, 'min_samples_leaf': 8, 'max_features': 'log2'}. Best is trial 0 with value: 0.7649515663564156.\n",
      "[I 2025-03-04 00:49:37,255] Trial 7 finished with value: 0.8871336761230182 and parameters: {'n_estimators': 135, 'max_depth': 35, 'min_samples_split': 5, 'min_samples_leaf': 1, 'max_features': 'log2'}. Best is trial 7 with value: 0.8871336761230182.\n",
      "[I 2025-03-04 00:49:40,063] Trial 8 finished with value: 0.6951419315204204 and parameters: {'n_estimators': 426, 'max_depth': 35, 'min_samples_split': 7, 'min_samples_leaf': 9, 'max_features': 'sqrt'}. Best is trial 7 with value: 0.8871336761230182.\n",
      "[I 2025-03-04 00:49:44,444] Trial 9 finished with value: 0.722932802319414 and parameters: {'n_estimators': 421, 'max_depth': 43, 'min_samples_split': 15, 'min_samples_leaf': 7, 'max_features': 'log2'}. Best is trial 7 with value: 0.8871336761230182.\n",
      "[I 2025-03-04 00:49:44,649] Trial 10 finished with value: 0.7086560495907467 and parameters: {'n_estimators': 253, 'max_depth': 23, 'min_samples_split': 14, 'min_samples_leaf': 8, 'max_features': 'log2'}. Best is trial 7 with value: 0.8871336761230182.\n",
      "[I 2025-03-04 00:49:45,324] Trial 11 finished with value: 0.673924745723094 and parameters: {'n_estimators': 246, 'max_depth': 14, 'min_samples_split': 19, 'min_samples_leaf': 9, 'max_features': 'sqrt'}. Best is trial 7 with value: 0.8871336761230182.\n",
      "[I 2025-03-04 00:49:49,194] Trial 12 finished with value: 0.5103643548493839 and parameters: {'n_estimators': 156, 'max_depth': 7, 'min_samples_split': 15, 'min_samples_leaf': 10, 'max_features': 'log2'}. Best is trial 7 with value: 0.8871336761230182.\n",
      "[I 2025-03-04 00:49:57,245] Trial 13 finished with value: 0.8792527651596529 and parameters: {'n_estimators': 314, 'max_depth': 30, 'min_samples_split': 6, 'min_samples_leaf': 1, 'max_features': 'sqrt'}. Best is trial 7 with value: 0.8871336761230182.\n",
      "[I 2025-03-04 00:50:02,036] Trial 14 finished with value: 0.8228867017772759 and parameters: {'n_estimators': 498, 'max_depth': 48, 'min_samples_split': 2, 'min_samples_leaf': 3, 'max_features': 'sqrt'}. Best is trial 7 with value: 0.8871336761230182.\n",
      "[I 2025-03-04 00:50:04,986] Trial 15 finished with value: 0.8228877015865639 and parameters: {'n_estimators': 499, 'max_depth': 50, 'min_samples_split': 2, 'min_samples_leaf': 3, 'max_features': 'sqrt'}. Best is trial 7 with value: 0.8871336761230182.\n",
      "[I 2025-03-04 00:50:12,687] Trial 16 finished with value: 0.8228957664842456 and parameters: {'n_estimators': 500, 'max_depth': 49, 'min_samples_split': 2, 'min_samples_leaf': 3, 'max_features': 'sqrt'}. Best is trial 7 with value: 0.8871336761230182.\n",
      "[I 2025-03-04 00:50:14,510] Trial 17 finished with value: 0.8795180006156095 and parameters: {'n_estimators': 332, 'max_depth': 31, 'min_samples_split': 6, 'min_samples_leaf': 1, 'max_features': 'sqrt'}. Best is trial 7 with value: 0.8871336761230182.\n",
      "[I 2025-03-04 00:50:15,649] Trial 18 finished with value: 0.870540047763444 and parameters: {'n_estimators': 337, 'max_depth': 32, 'min_samples_split': 7, 'min_samples_leaf': 1, 'max_features': 'sqrt'}. Best is trial 7 with value: 0.8871336761230182.\n",
      "[I 2025-03-04 00:50:23,373] Trial 19 finished with value: 0.8795395293111342 and parameters: {'n_estimators': 322, 'max_depth': 32, 'min_samples_split': 6, 'min_samples_leaf': 1, 'max_features': 'sqrt'}. Best is trial 7 with value: 0.8871336761230182.\n",
      "[I 2025-03-04 00:50:26,548] Trial 20 finished with value: 0.8795951119826381 and parameters: {'n_estimators': 335, 'max_depth': 32, 'min_samples_split': 6, 'min_samples_leaf': 1, 'max_features': 'sqrt'}. Best is trial 7 with value: 0.8871336761230182.\n",
      "[I 2025-03-04 00:50:28,044] Trial 21 finished with value: 0.8795756490203889 and parameters: {'n_estimators': 358, 'max_depth': 33, 'min_samples_split': 6, 'min_samples_leaf': 1, 'max_features': 'sqrt'}. Best is trial 7 with value: 0.8871336761230182.\n",
      "[I 2025-03-04 00:50:33,224] Trial 23 finished with value: 0.7879969054108111 and parameters: {'n_estimators': 51, 'max_depth': 37, 'min_samples_split': 5, 'min_samples_leaf': 4, 'max_features': 'log2'}. Best is trial 7 with value: 0.8871336761230182.\n",
      "[I 2025-03-04 00:50:33,450] Trial 22 finished with value: 0.7908473395703952 and parameters: {'n_estimators': 368, 'max_depth': 37, 'min_samples_split': 5, 'min_samples_leaf': 4, 'max_features': 'log2'}. Best is trial 7 with value: 0.8871336761230182.\n",
      "[I 2025-03-04 00:50:36,540] Trial 24 finished with value: 0.7909253869493067 and parameters: {'n_estimators': 384, 'max_depth': 38, 'min_samples_split': 5, 'min_samples_leaf': 4, 'max_features': 'sqrt'}. Best is trial 7 with value: 0.8871336761230182.\n",
      "[I 2025-03-04 00:50:42,473] Trial 25 finished with value: 0.790953799958769 and parameters: {'n_estimators': 386, 'max_depth': 38, 'min_samples_split': 4, 'min_samples_leaf': 4, 'max_features': 'sqrt'}. Best is trial 7 with value: 0.8871336761230182.\n",
      "[I 2025-03-04 00:50:47,632] Trial 26 finished with value: 0.8610641963850949 and parameters: {'n_estimators': 385, 'max_depth': 25, 'min_samples_split': 4, 'min_samples_leaf': 2, 'max_features': 'sqrt'}. Best is trial 7 with value: 0.8871336761230182.\n",
      "[I 2025-03-04 00:50:50,227] Trial 27 finished with value: 0.8611006620563891 and parameters: {'n_estimators': 389, 'max_depth': 25, 'min_samples_split': 4, 'min_samples_leaf': 2, 'max_features': 'sqrt'}. Best is trial 7 with value: 0.8871336761230182.\n",
      "[I 2025-03-04 00:50:54,215] Trial 28 finished with value: 0.8309449058567691 and parameters: {'n_estimators': 408, 'max_depth': 25, 'min_samples_split': 9, 'min_samples_leaf': 2, 'max_features': 'sqrt'}. Best is trial 7 with value: 0.8871336761230182.\n",
      "[I 2025-03-04 00:50:57,932] Trial 29 finished with value: 0.8305657639725524 and parameters: {'n_estimators': 280, 'max_depth': 25, 'min_samples_split': 9, 'min_samples_leaf': 2, 'max_features': 'sqrt'}. Best is trial 7 with value: 0.8871336761230182.\n",
      "[I 2025-03-04 00:51:03,163] Trial 30 finished with value: 0.8312753401525889 and parameters: {'n_estimators': 443, 'max_depth': 27, 'min_samples_split': 9, 'min_samples_leaf': 2, 'max_features': 'sqrt'}. Best is trial 7 with value: 0.8871336761230182.\n",
      "[I 2025-03-04 00:51:03,480] Trial 31 finished with value: 0.8306648284210014 and parameters: {'n_estimators': 293, 'max_depth': 43, 'min_samples_split': 9, 'min_samples_leaf': 2, 'max_features': 'log2'}. Best is trial 7 with value: 0.8871336761230182.\n",
      "[I 2025-03-04 00:51:05,965] Trial 32 finished with value: 0.7598419031522491 and parameters: {'n_estimators': 283, 'max_depth': 42, 'min_samples_split': 12, 'min_samples_leaf': 5, 'max_features': 'log2'}. Best is trial 7 with value: 0.8871336761230182.\n",
      "[I 2025-03-04 00:51:13,088] Trial 33 finished with value: 0.7602392140993518 and parameters: {'n_estimators': 446, 'max_depth': 45, 'min_samples_split': 12, 'min_samples_leaf': 5, 'max_features': 'log2'}. Best is trial 7 with value: 0.8871336761230182.\n",
      "[I 2025-03-04 00:51:14,666] Trial 34 finished with value: 0.8703761846449851 and parameters: {'n_estimators': 285, 'max_depth': 43, 'min_samples_split': 7, 'min_samples_leaf': 1, 'max_features': 'sqrt'}. Best is trial 7 with value: 0.8871336761230182.\n",
      "[I 2025-03-04 00:51:18,763] Trial 35 finished with value: 0.8705644549103045 and parameters: {'n_estimators': 328, 'max_depth': 33, 'min_samples_split': 7, 'min_samples_leaf': 1, 'max_features': 'sqrt'}. Best is trial 7 with value: 0.8871336761230182.\n",
      "[I 2025-03-04 00:51:25,561] Trial 36 finished with value: 0.8706218847636533 and parameters: {'n_estimators': 349, 'max_depth': 34, 'min_samples_split': 7, 'min_samples_leaf': 1, 'max_features': 'sqrt'}. Best is trial 7 with value: 0.8871336761230182.\n",
      "[I 2025-03-04 00:51:26,984] Trial 37 finished with value: 0.8706589779718733 and parameters: {'n_estimators': 349, 'max_depth': 33, 'min_samples_split': 7, 'min_samples_leaf': 1, 'max_features': 'sqrt'}. Best is trial 7 with value: 0.8871336761230182.\n",
      "[I 2025-03-04 00:51:29,505] Trial 38 finished with value: 0.8619401219789096 and parameters: {'n_estimators': 349, 'max_depth': 34, 'min_samples_split': 8, 'min_samples_leaf': 1, 'max_features': 'sqrt'}. Best is trial 7 with value: 0.8871336761230182.\n",
      "[I 2025-03-04 00:51:32,169] Trial 39 finished with value: 0.8899546823530728 and parameters: {'n_estimators': 215, 'max_depth': 19, 'min_samples_split': 3, 'min_samples_leaf': 1, 'max_features': 'sqrt'}. Best is trial 39 with value: 0.8899546823530728.\n",
      "[I 2025-03-04 00:51:35,037] Trial 40 finished with value: 0.8225889135676807 and parameters: {'n_estimators': 217, 'max_depth': 29, 'min_samples_split': 3, 'min_samples_leaf': 3, 'max_features': 'sqrt'}. Best is trial 39 with value: 0.8899546823530728.\n",
      "[I 2025-03-04 00:51:36,396] Trial 41 finished with value: 0.8226455249533009 and parameters: {'n_estimators': 222, 'max_depth': 29, 'min_samples_split': 3, 'min_samples_leaf': 3, 'max_features': 'log2'}. Best is trial 39 with value: 0.8899546823530728.\n",
      "[I 2025-03-04 00:51:37,579] Trial 42 finished with value: 0.8226693620326255 and parameters: {'n_estimators': 212, 'max_depth': 29, 'min_samples_split': 3, 'min_samples_leaf': 3, 'max_features': 'log2'}. Best is trial 39 with value: 0.8899546823530728.\n",
      "[I 2025-03-04 00:51:40,422] Trial 43 finished with value: 0.8099138912790271 and parameters: {'n_estimators': 207, 'max_depth': 18, 'min_samples_split': 3, 'min_samples_leaf': 3, 'max_features': 'log2'}. Best is trial 39 with value: 0.8899546823530728.\n",
      "[I 2025-03-04 00:51:41,051] Trial 44 finished with value: 0.8545047720856764 and parameters: {'n_estimators': 134, 'max_depth': 20, 'min_samples_split': 3, 'min_samples_leaf': 2, 'max_features': 'sqrt'}. Best is trial 39 with value: 0.8899546823530728.\n",
      "[I 2025-03-04 00:51:43,905] Trial 45 finished with value: 0.8343773232685529 and parameters: {'n_estimators': 171, 'max_depth': 18, 'min_samples_split': 6, 'min_samples_leaf': 2, 'max_features': 'sqrt'}. Best is trial 39 with value: 0.8899546823530728.\n",
      "[I 2025-03-04 00:51:44,327] Trial 46 finished with value: 0.834241154792833 and parameters: {'n_estimators': 131, 'max_depth': 18, 'min_samples_split': 6, 'min_samples_leaf': 2, 'max_features': 'sqrt'}. Best is trial 39 with value: 0.8899546823530728.\n",
      "[I 2025-03-04 00:51:44,530] Trial 47 finished with value: 0.8446527778831848 and parameters: {'n_estimators': 114, 'max_depth': 20, 'min_samples_split': 6, 'min_samples_leaf': 2, 'max_features': 'sqrt'}. Best is trial 39 with value: 0.8899546823530728.\n",
      "[I 2025-03-04 00:51:45,895] Trial 48 finished with value: 0.7816893515607196 and parameters: {'n_estimators': 108, 'max_depth': 14, 'min_samples_split': 6, 'min_samples_leaf': 1, 'max_features': 'sqrt'}. Best is trial 39 with value: 0.8899546823530728.\n",
      "[I 2025-03-04 00:51:47,621] Trial 49 finished with value: 0.8869726702662645 and parameters: {'n_estimators': 110, 'max_depth': 40, 'min_samples_split': 5, 'min_samples_leaf': 1, 'max_features': 'sqrt'}. Best is trial 39 with value: 0.8899546823530728.\n",
      "[I 2025-03-04 00:51:47,822] Trial 50 finished with value: 0.7420329883461709 and parameters: {'n_estimators': 103, 'max_depth': 36, 'min_samples_split': 5, 'min_samples_leaf': 6, 'max_features': 'sqrt'}. Best is trial 39 with value: 0.8899546823530728.\n",
      "[I 2025-03-04 00:51:48,226] Trial 51 finished with value: 0.757772177035452 and parameters: {'n_estimators': 92, 'max_depth': 14, 'min_samples_split': 11, 'min_samples_leaf': 1, 'max_features': 'sqrt'}. Best is trial 39 with value: 0.8899546823530728.\n",
      "[I 2025-03-04 00:51:53,530] Trial 53 finished with value: 0.7416041242040852 and parameters: {'n_estimators': 79, 'max_depth': 40, 'min_samples_split': 11, 'min_samples_leaf': 6, 'max_features': 'log2'}. Best is trial 39 with value: 0.8899546823530728.\n",
      "[I 2025-03-04 00:51:53,641] Trial 52 finished with value: 0.7427208132797275 and parameters: {'n_estimators': 185, 'max_depth': 40, 'min_samples_split': 11, 'min_samples_leaf': 6, 'max_features': 'sqrt'}. Best is trial 39 with value: 0.8899546823530728.\n",
      "[I 2025-03-04 00:51:55,686] Trial 54 finished with value: 0.8617963283567706 and parameters: {'n_estimators': 306, 'max_depth': 40, 'min_samples_split': 8, 'min_samples_leaf': 1, 'max_features': 'sqrt'}. Best is trial 39 with value: 0.8899546823530728.\n",
      "[I 2025-03-04 00:52:01,455] Trial 55 finished with value: 0.8960678321306246 and parameters: {'n_estimators': 154, 'max_depth': 40, 'min_samples_split': 4, 'min_samples_leaf': 1, 'max_features': 'sqrt'}. Best is trial 55 with value: 0.8960678321306246.\n",
      "[I 2025-03-04 00:52:04,575] Trial 56 finished with value: 0.8617964292821192 and parameters: {'n_estimators': 307, 'max_depth': 40, 'min_samples_split': 8, 'min_samples_leaf': 1, 'max_features': 'sqrt'}. Best is trial 55 with value: 0.8960678321306246.\n",
      "[I 2025-03-04 00:52:05,074] Trial 57 finished with value: 0.8960403459243086 and parameters: {'n_estimators': 263, 'max_depth': 31, 'min_samples_split': 4, 'min_samples_leaf': 1, 'max_features': 'sqrt'}. Best is trial 55 with value: 0.8960678321306246.\n",
      "[I 2025-03-04 00:52:09,216] Trial 58 finished with value: 0.8960527962385875 and parameters: {'n_estimators': 265, 'max_depth': 31, 'min_samples_split': 4, 'min_samples_leaf': 1, 'max_features': 'sqrt'}. Best is trial 55 with value: 0.8960678321306246.\n",
      "[I 2025-03-04 00:52:10,134] Trial 59 finished with value: 0.896011232705419 and parameters: {'n_estimators': 156, 'max_depth': 45, 'min_samples_split': 4, 'min_samples_leaf': 1, 'max_features': 'sqrt'}. Best is trial 55 with value: 0.8960678321306246.\n",
      "[I 2025-03-04 00:52:11,333] Trial 60 finished with value: 0.8957439336829964 and parameters: {'n_estimators': 143, 'max_depth': 46, 'min_samples_split': 4, 'min_samples_leaf': 1, 'max_features': 'sqrt'}. Best is trial 55 with value: 0.8960678321306246.\n",
      "[I 2025-03-04 00:52:13,449] Trial 61 finished with value: 0.7242201582088915 and parameters: {'n_estimators': 261, 'max_depth': 35, 'min_samples_split': 4, 'min_samples_leaf': 7, 'max_features': 'sqrt'}. Best is trial 55 with value: 0.8960678321306246.\n",
      "[I 2025-03-04 00:52:15,760] Trial 62 finished with value: 0.7237245804071017 and parameters: {'n_estimators': 150, 'max_depth': 46, 'min_samples_split': 4, 'min_samples_leaf': 7, 'max_features': 'log2'}. Best is trial 55 with value: 0.8960678321306246.\n",
      "[I 2025-03-04 00:52:18,416] Trial 63 finished with value: 0.7242516448731492 and parameters: {'n_estimators': 256, 'max_depth': 47, 'min_samples_split': 4, 'min_samples_leaf': 7, 'max_features': 'log2'}. Best is trial 55 with value: 0.8960678321306246.\n",
      "[I 2025-03-04 00:52:20,948] Trial 64 finished with value: 0.7242595682817633 and parameters: {'n_estimators': 260, 'max_depth': 46, 'min_samples_split': 4, 'min_samples_leaf': 7, 'max_features': 'sqrt'}. Best is trial 55 with value: 0.8960678321306246.\n",
      "[I 2025-03-04 00:52:21,887] Trial 65 finished with value: 0.7086578847736449 and parameters: {'n_estimators': 187, 'max_depth': 44, 'min_samples_split': 2, 'min_samples_leaf': 8, 'max_features': 'sqrt'}. Best is trial 55 with value: 0.8960678321306246.\n",
      "[I 2025-03-04 00:52:23,772] Trial 66 finished with value: 0.8611686419089567 and parameters: {'n_estimators': 190, 'max_depth': 47, 'min_samples_split': 2, 'min_samples_leaf': 2, 'max_features': 'sqrt'}. Best is trial 55 with value: 0.8960678321306246.\n",
      "[I 2025-03-04 00:52:27,475] Trial 67 finished with value: 0.8611827115768383 and parameters: {'n_estimators': 236, 'max_depth': 45, 'min_samples_split': 3, 'min_samples_leaf': 2, 'max_features': 'sqrt'}. Best is trial 55 with value: 0.8960678321306246.\n",
      "[I 2025-03-04 00:52:29,053] Trial 68 finished with value: 0.8611555912486007 and parameters: {'n_estimators': 232, 'max_depth': 49, 'min_samples_split': 2, 'min_samples_leaf': 2, 'max_features': 'sqrt'}. Best is trial 55 with value: 0.8960678321306246.\n",
      "[I 2025-03-04 00:52:31,485] Trial 69 finished with value: 0.8609696001881673 and parameters: {'n_estimators': 158, 'max_depth': 48, 'min_samples_split': 2, 'min_samples_leaf': 2, 'max_features': 'sqrt'}. Best is trial 55 with value: 0.8960678321306246.\n",
      "[I 2025-03-04 00:52:34,353] Trial 70 finished with value: 0.8873935733626228 and parameters: {'n_estimators': 231, 'max_depth': 38, 'min_samples_split': 5, 'min_samples_leaf': 1, 'max_features': 'sqrt'}. Best is trial 55 with value: 0.8960678321306246.\n",
      "[I 2025-03-04 00:52:34,880] Trial 71 finished with value: 0.8870661039226009 and parameters: {'n_estimators': 156, 'max_depth': 37, 'min_samples_split': 5, 'min_samples_leaf': 1, 'max_features': 'sqrt'}. Best is trial 55 with value: 0.8960678321306246.\n",
      "[I 2025-03-04 00:52:37,944] Trial 73 finished with value: 0.4878747419438293 and parameters: {'n_estimators': 145, 'max_depth': 6, 'min_samples_split': 5, 'min_samples_leaf': 1, 'max_features': 'sqrt'}. Best is trial 55 with value: 0.8960678321306246.\n",
      "[I 2025-03-04 00:52:38,220] Trial 72 finished with value: 0.7945116096165445 and parameters: {'n_estimators': 157, 'max_depth': 31, 'min_samples_split': 17, 'min_samples_leaf': 1, 'max_features': 'sqrt'}. Best is trial 55 with value: 0.8960678321306246.\n",
      "[I 2025-03-04 00:52:39,593] Trial 74 finished with value: 0.8869341460078124 and parameters: {'n_estimators': 147, 'max_depth': 31, 'min_samples_split': 5, 'min_samples_leaf': 1, 'max_features': 'sqrt'}. Best is trial 55 with value: 0.8960678321306246.\n",
      "[I 2025-03-04 00:52:42,608] Trial 75 finished with value: 0.887216941689989 and parameters: {'n_estimators': 200, 'max_depth': 27, 'min_samples_split': 5, 'min_samples_leaf': 1, 'max_features': 'sqrt'}. Best is trial 55 with value: 0.8960678321306246.\n",
      "[I 2025-03-04 00:52:45,608] Trial 76 finished with value: 0.7943393939691001 and parameters: {'n_estimators': 174, 'max_depth': 27, 'min_samples_split': 17, 'min_samples_leaf': 1, 'max_features': 'sqrt'}. Best is trial 55 with value: 0.8960678321306246.\n",
      "[I 2025-03-04 00:52:46,654] Trial 77 finished with value: 0.895878156014484 and parameters: {'n_estimators': 199, 'max_depth': 27, 'min_samples_split': 4, 'min_samples_leaf': 1, 'max_features': 'sqrt'}. Best is trial 55 with value: 0.8960678321306246.\n",
      "[I 2025-03-04 00:52:49,395] Trial 78 finished with value: 0.8960041144260821 and parameters: {'n_estimators': 202, 'max_depth': 38, 'min_samples_split': 4, 'min_samples_leaf': 1, 'max_features': 'sqrt'}. Best is trial 55 with value: 0.8960678321306246.\n",
      "[I 2025-03-04 00:52:52,971] Trial 79 finished with value: 0.8956066099456905 and parameters: {'n_estimators': 174, 'max_depth': 27, 'min_samples_split': 4, 'min_samples_leaf': 1, 'max_features': 'sqrt'}. Best is trial 55 with value: 0.8960678321306246.\n",
      "[I 2025-03-04 00:52:53,698] Trial 80 finished with value: 0.8960671129040982 and parameters: {'n_estimators': 199, 'max_depth': 42, 'min_samples_split': 4, 'min_samples_leaf': 1, 'max_features': 'sqrt'}. Best is trial 55 with value: 0.8960678321306246.\n",
      "[I 2025-03-04 00:52:56,378] Trial 81 finished with value: 0.6827381964654047 and parameters: {'n_estimators': 226, 'max_depth': 42, 'min_samples_split': 4, 'min_samples_leaf': 10, 'max_features': 'sqrt'}. Best is trial 55 with value: 0.8960678321306246.\n",
      "[I 2025-03-04 00:52:59,533] Trial 82 finished with value: 0.6648689331200355 and parameters: {'n_estimators': 272, 'max_depth': 11, 'min_samples_split': 4, 'min_samples_leaf': 2, 'max_features': 'sqrt'}. Best is trial 55 with value: 0.8960678321306246.\n",
      "[I 2025-03-04 00:53:00,189] Trial 83 finished with value: 0.8583473805400178 and parameters: {'n_estimators': 171, 'max_depth': 22, 'min_samples_split': 3, 'min_samples_leaf': 2, 'max_features': 'sqrt'}. Best is trial 55 with value: 0.8960678321306246.\n",
      "[I 2025-03-04 00:53:01,294] Trial 84 finished with value: 0.8609210884124261 and parameters: {'n_estimators': 169, 'max_depth': 42, 'min_samples_split': 4, 'min_samples_leaf': 2, 'max_features': 'sqrt'}. Best is trial 55 with value: 0.8960678321306246.\n",
      "[I 2025-03-04 00:53:06,858] Trial 85 finished with value: 0.8945595107555455 and parameters: {'n_estimators': 168, 'max_depth': 23, 'min_samples_split': 4, 'min_samples_leaf': 1, 'max_features': 'sqrt'}. Best is trial 55 with value: 0.8960678321306246.\n",
      "[I 2025-03-04 00:53:07,618] Trial 86 finished with value: 0.902348404142208 and parameters: {'n_estimators': 172, 'max_depth': 24, 'min_samples_split': 3, 'min_samples_leaf': 1, 'max_features': 'sqrt'}. Best is trial 86 with value: 0.902348404142208.\n",
      "[I 2025-03-04 00:53:08,292] Trial 87 finished with value: 0.8946193489911641 and parameters: {'n_estimators': 195, 'max_depth': 23, 'min_samples_split': 4, 'min_samples_leaf': 1, 'max_features': 'sqrt'}. Best is trial 86 with value: 0.902348404142208.\n",
      "[I 2025-03-04 00:53:15,249] Trial 88 finished with value: 0.9035367600045345 and parameters: {'n_estimators': 187, 'max_depth': 44, 'min_samples_split': 3, 'min_samples_leaf': 1, 'max_features': 'sqrt'}. Best is trial 88 with value: 0.9035367600045345.\n",
      "[I 2025-03-04 00:53:15,643] Trial 89 finished with value: 0.903776601493754 and parameters: {'n_estimators': 194, 'max_depth': 28, 'min_samples_split': 3, 'min_samples_leaf': 1, 'max_features': 'sqrt'}. Best is trial 89 with value: 0.903776601493754.\n",
      "[I 2025-03-04 00:53:16,829] Trial 90 finished with value: 0.9036243466128557 and parameters: {'n_estimators': 197, 'max_depth': 44, 'min_samples_split': 3, 'min_samples_leaf': 1, 'max_features': 'sqrt'}. Best is trial 89 with value: 0.903776601493754.\n",
      "[I 2025-03-04 00:53:24,537] Trial 91 finished with value: 0.9038428856031979 and parameters: {'n_estimators': 246, 'max_depth': 44, 'min_samples_split': 3, 'min_samples_leaf': 1, 'max_features': 'sqrt'}. Best is trial 91 with value: 0.9038428856031979.\n",
      "[I 2025-03-04 00:53:24,957] Trial 92 finished with value: 0.9038291958206586 and parameters: {'n_estimators': 247, 'max_depth': 44, 'min_samples_split': 3, 'min_samples_leaf': 1, 'max_features': 'sqrt'}. Best is trial 91 with value: 0.9038428856031979.\n",
      "[I 2025-03-04 00:53:26,677] Trial 93 finished with value: 0.8611460415715001 and parameters: {'n_estimators': 242, 'max_depth': 44, 'min_samples_split': 3, 'min_samples_leaf': 2, 'max_features': 'sqrt'}. Best is trial 91 with value: 0.9038428856031979.\n",
      "[I 2025-03-04 00:53:32,138] Trial 94 finished with value: 0.9036373624646614 and parameters: {'n_estimators': 205, 'max_depth': 44, 'min_samples_split': 3, 'min_samples_leaf': 1, 'max_features': 'sqrt'}. Best is trial 91 with value: 0.9038428856031979.\n",
      "[I 2025-03-04 00:53:34,576] Trial 95 finished with value: 0.903854078515646 and parameters: {'n_estimators': 242, 'max_depth': 44, 'min_samples_split': 3, 'min_samples_leaf': 1, 'max_features': 'sqrt'}. Best is trial 95 with value: 0.903854078515646.\n",
      "[I 2025-03-04 00:53:35,391] Trial 96 finished with value: 0.8611569267193696 and parameters: {'n_estimators': 248, 'max_depth': 43, 'min_samples_split': 3, 'min_samples_leaf': 2, 'max_features': 'sqrt'}. Best is trial 95 with value: 0.903854078515646.\n",
      "[I 2025-03-04 00:53:41,455] Trial 97 finished with value: 0.9096444468414566 and parameters: {'n_estimators': 269, 'max_depth': 50, 'min_samples_split': 2, 'min_samples_leaf': 1, 'max_features': 'sqrt'}. Best is trial 97 with value: 0.9096444468414566.\n",
      "[I 2025-03-04 00:53:41,721] Trial 98 finished with value: 0.9095369400106499 and parameters: {'n_estimators': 216, 'max_depth': 50, 'min_samples_split': 2, 'min_samples_leaf': 1, 'max_features': 'sqrt'}. Best is trial 97 with value: 0.9096444468414566.\n",
      "[I 2025-03-04 00:53:41,833] Trial 99 finished with value: 0.8611508261246398 and parameters: {'n_estimators': 246, 'max_depth': 41, 'min_samples_split': 2, 'min_samples_leaf': 2, 'max_features': 'sqrt'}. Best is trial 97 with value: 0.9096444468414566.\n"
     ]
    },
    {
     "name": "stdout",
     "output_type": "stream",
     "text": [
      "Best hyperparameters: {'n_estimators': 269, 'max_depth': 50, 'min_samples_split': 2, 'min_samples_leaf': 1, 'max_features': 'sqrt'}\n",
      "Optimized R² Score: 0.9259\n"
     ]
    }
   ],
   "source": [
    "import optuna\n",
    "from sklearn.ensemble import RandomForestRegressor\n",
    "from sklearn.metrics import r2_score\n",
    "from sklearn.model_selection import cross_val_score\n",
    "\n",
    "# Define the objective function for optimization\n",
    "def objective(trial):\n",
    "    # Define hyperparameter search space\n",
    "    n_estimators = trial.suggest_int('n_estimators', 50, 500)\n",
    "    max_depth = trial.suggest_int('max_depth', 5, 50)\n",
    "    min_samples_split = trial.suggest_int('min_samples_split', 2, 20)\n",
    "    min_samples_leaf = trial.suggest_int('min_samples_leaf', 1, 10)\n",
    "    max_features = trial.suggest_categorical('max_features', [ 'sqrt', 'log2'])\n",
    "\n",
    "    # Initialize the model with trial parameters\n",
    "    model = RandomForestRegressor(\n",
    "        n_estimators=n_estimators,\n",
    "        max_depth=max_depth,\n",
    "        min_samples_split=min_samples_split,\n",
    "        min_samples_leaf=min_samples_leaf,\n",
    "        max_features=max_features,\n",
    "        random_state=42,\n",
    "        n_jobs=-1  # Use all CPU cores\n",
    "    )\n",
    "\n",
    "    # Cross-validation score (R² score)\n",
    "    score = cross_val_score(model, X_train, y_train, cv=5, scoring='r2', n_jobs=-1).mean()\n",
    "    return score  # Higher R² is better\n",
    "\n",
    "# Run Optuna optimization\n",
    "study = optuna.create_study(direction='maximize')\n",
    "study.optimize(objective, n_trials=100, n_jobs=4)  # Use 4 CPU cores for parallel tuning\n",
    "\n",
    "# Best parameters\n",
    "print(\"Best hyperparameters:\", study.best_params)\n",
    "\n",
    "# Train final model with best parameters\n",
    "best_rf = RandomForestRegressor(**study.best_params, random_state=42, n_jobs=-1)\n",
    "best_rf.fit(X_train, y_train)\n",
    "\n",
    "# Evaluate model\n",
    "y_pred = best_rf.predict(X_test)\n",
    "r2 = r2_score(y_test, y_pred)\n",
    "print(f\"Optimized R² Score: {r2:.4f}\")\n"
   ]
  }
 ],
 "metadata": {
  "kernelspec": {
   "display_name": "Python 3",
   "language": "python",
   "name": "python3"
  },
  "language_info": {
   "codemirror_mode": {
    "name": "ipython",
    "version": 3
   },
   "file_extension": ".py",
   "mimetype": "text/x-python",
   "name": "python",
   "nbconvert_exporter": "python",
   "pygments_lexer": "ipython3",
   "version": "3.10.11"
  }
 },
 "nbformat": 4,
 "nbformat_minor": 2
}
